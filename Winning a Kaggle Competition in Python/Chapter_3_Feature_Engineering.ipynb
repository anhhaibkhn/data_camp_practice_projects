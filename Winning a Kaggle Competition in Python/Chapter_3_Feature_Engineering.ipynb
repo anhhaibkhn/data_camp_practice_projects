{
 "cells": [
  {
   "cell_type": "markdown",
   "metadata": {},
   "source": [
    "### Chapter 3: Feature Engineering\n",
    "\n",
    "You will now get exposure to different types of features. You will modify existing features and create new ones. Also, you will treat the missing data accordingly.\n",
    "\n",
    "\n",
    "- 3.1 Feature engineering\n",
    "    - Arithmetical features\n",
    "    - Date features  \n",
    "    <br />\n",
    "- 3.2  Categorical features\n",
    "    - Label encoding\n",
    "    - One-Hot encoding  \n",
    "    <br />    \n",
    "- 3.3 Target encoding\n",
    "    - Mean target encoding\n",
    "    - K-fold cross-validation\n",
    "    - Beyond binary classification  \n",
    "    <br />  \n",
    "- 3.4  Missing data\n",
    "    - Find missing data\n",
    "    - Impute missing data  \n",
    "    <br />  \n",
    "    "
   ]
  },
  {
   "cell_type": "code",
   "execution_count": null,
   "metadata": {},
   "outputs": [],
   "source": []
  }
 ],
 "metadata": {
  "kernelspec": {
   "display_name": "Python 3.8.10 ('aiocr_build_conda_forge')",
   "language": "python",
   "name": "python3"
  },
  "language_info": {
   "name": "python",
   "version": "3.8.10"
  },
  "orig_nbformat": 4,
  "vscode": {
   "interpreter": {
    "hash": "9875023620737143c8dc63fb6d5d675f88b03edceb439507150cf34b5a306239"
   }
  }
 },
 "nbformat": 4,
 "nbformat_minor": 2
}
