{
 "cells": [
  {
   "cell_type": "markdown",
   "metadata": {},
   "source": [
    "### Chapter 4: Modeling\n",
    "\n",
    "Time to bring everything together and build some models! In this last chapter, you will build a base model before tuning some hyperparameters and improving your results with ensembles. You will then get some final tips and tricks to help you compete more efficiently.\n",
    "\n",
    "\n",
    "- 4.1 Baseline model\n",
    "    - Replicate validation score\n",
    "    - Baseline based on the date\n",
    "    - Baseline based on the gradient boosting  \n",
    "    <br />\n",
    "- 4.2  Hyperparameter tuning\n",
    "    - Grid Search\n",
    "    - 2D Grid Search  \n",
    "    <br />    \n",
    "- 4.3 Model Ensembling\n",
    "    - Model Blending\n",
    "    - Model Stacking I\n",
    "    - Model Stacking II  \n",
    "    <br />  \n",
    "- 4.4  Final Tips\n",
    "    - Testing Kaggle forum ideas\n",
    "    - Select final submissions. \n",
    "    <br />  \n",
    "    "
   ]
  },
  {
   "cell_type": "code",
   "execution_count": null,
   "metadata": {},
   "outputs": [],
   "source": []
  }
 ],
 "metadata": {
  "kernelspec": {
   "display_name": "Python 3.8.10 ('aiocr_build_conda_forge')",
   "language": "python",
   "name": "python3"
  },
  "language_info": {
   "name": "python",
   "version": "3.8.10"
  },
  "orig_nbformat": 4,
  "vscode": {
   "interpreter": {
    "hash": "9875023620737143c8dc63fb6d5d675f88b03edceb439507150cf34b5a306239"
   }
  }
 },
 "nbformat": 4,
 "nbformat_minor": 2
}
