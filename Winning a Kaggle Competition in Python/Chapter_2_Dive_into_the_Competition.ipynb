{
 "cells": [
  {
   "cell_type": "markdown",
   "metadata": {},
   "source": [
    "### Chapter 2: Dive into the Competition\n",
    "\n",
    "Now that you know the basics of Kaggle competitions, you will learn how to study the specific problem at hand. You will practice EDA and get to establish correct local validation strategies. You will also learn about data leakage.\n",
    "\n",
    "\n",
    "- 2.1 Understand the problem\n",
    "    - Understand the problem types\n",
    "    - Define a competition metircs\n",
    "    <br />  \n",
    "\n",
    "- 2.2 Initial EDA\n",
    "    - EDA statistics\n",
    "    - EDA plot I\n",
    "    - EDA plots II  \n",
    "    <br />    \n",
    "\n",
    "- 2.3 Local validation\n",
    "    - K-fold cross-validation\n",
    "    - Stratified K-fold\n",
    "    <br />  \n",
    "\n",
    "- 2.4 Validation usage\n",
    "    - Time K-fold\n",
    "    - Overall validation score. \n",
    "    <br />  \n",
    "    "
   ]
  },
  {
   "cell_type": "code",
   "execution_count": null,
   "metadata": {},
   "outputs": [],
   "source": []
  }
 ],
 "metadata": {
  "kernelspec": {
   "display_name": "Python 3.9.12 ('my_conda_env')",
   "language": "python",
   "name": "python3"
  },
  "language_info": {
   "name": "python",
   "version": "3.9.12"
  },
  "orig_nbformat": 4,
  "vscode": {
   "interpreter": {
    "hash": "0f080ef3f7e154a5496448b61eb994fbc79c03fae547c033702ffc1b7b2a346b"
   }
  }
 },
 "nbformat": 4,
 "nbformat_minor": 2
}
